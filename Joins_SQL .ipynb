{
 "cells": [
  {
   "cell_type": "code",
   "execution_count": 81,
   "metadata": {},
   "outputs": [],
   "source": [
    "import pandas as pd\n",
    "from sqlalchemy import create_engine\n",
    "from sqlalchemy.types import Integer, Float\n",
    "engine = create_engine('sqlite://', echo=False)"
   ]
  },
  {
   "cell_type": "code",
   "execution_count": 82,
   "metadata": {},
   "outputs": [],
   "source": [
    "d = {'measurement': ['Tc1', 'Tc1', 'Th1', 'Th1', 'Tc2', 'Tc2', 'Th2', 'Th2'], 'position': ['x1', 'x1', 'x1', 'x1', 'x2', 'x2', 'x2', 'x2'], 'temperature': [50.5, 51.0, 80.9, 81.0, 60.3, 59.3, 70.2, 71.6], 'Timestamp': [1543507200000000000, 1543507245000000000, 1543507200000000000, 1543507245000000000, 1543507200000000000, 1543507245000000000, 1543507200000000000, 1543507245000000000]}"
   ]
  },
  {
   "cell_type": "code",
   "execution_count": 83,
   "metadata": {},
   "outputs": [],
   "source": [
    "df = pd.DataFrame(data=d)"
   ]
  },
  {
   "cell_type": "code",
   "execution_count": 84,
   "metadata": {},
   "outputs": [
    {
     "data": {
      "text/html": [
       "<div>\n",
       "<style scoped>\n",
       "    .dataframe tbody tr th:only-of-type {\n",
       "        vertical-align: middle;\n",
       "    }\n",
       "\n",
       "    .dataframe tbody tr th {\n",
       "        vertical-align: top;\n",
       "    }\n",
       "\n",
       "    .dataframe thead th {\n",
       "        text-align: right;\n",
       "    }\n",
       "</style>\n",
       "<table border=\"1\" class=\"dataframe\">\n",
       "  <thead>\n",
       "    <tr style=\"text-align: right;\">\n",
       "      <th></th>\n",
       "      <th>measurement</th>\n",
       "      <th>position</th>\n",
       "      <th>temperature</th>\n",
       "      <th>Timestamp</th>\n",
       "    </tr>\n",
       "  </thead>\n",
       "  <tbody>\n",
       "    <tr>\n",
       "      <th>0</th>\n",
       "      <td>Tc1</td>\n",
       "      <td>x1</td>\n",
       "      <td>50.5</td>\n",
       "      <td>1543507200000000000</td>\n",
       "    </tr>\n",
       "    <tr>\n",
       "      <th>1</th>\n",
       "      <td>Tc1</td>\n",
       "      <td>x1</td>\n",
       "      <td>51.0</td>\n",
       "      <td>1543507245000000000</td>\n",
       "    </tr>\n",
       "  </tbody>\n",
       "</table>\n",
       "</div>"
      ],
      "text/plain": [
       "  measurement position  temperature            Timestamp\n",
       "0         Tc1       x1         50.5  1543507200000000000\n",
       "1         Tc1       x1         51.0  1543507245000000000"
      ]
     },
     "execution_count": 84,
     "metadata": {},
     "output_type": "execute_result"
    }
   ],
   "source": [
    "Tc1 = df.loc[df['measurement']=='Tc1']\n",
    "Th1 = df.loc[df['measurement']=='Th1']\n",
    "Tc2 = df.loc[df['measurement']=='Tc2']\n",
    "Th2 = df.loc[df['measurement']=='Th2']\n",
    "Tc1"
   ]
  },
  {
   "cell_type": "code",
   "execution_count": 85,
   "metadata": {},
   "outputs": [],
   "source": [
    "Tc1.to_sql('Tc1', con=engine, index=False, dtype={\"temperature\": Float(), \"Timestamp\": Integer()})"
   ]
  },
  {
   "cell_type": "code",
   "execution_count": 86,
   "metadata": {},
   "outputs": [],
   "source": [
    "Th1.to_sql('Th1', con=engine, index=False, dtype={\"temperature\": Float(), \"Timestamp\": Integer()})\n",
    "Tc2.to_sql('Tc2', con=engine, index=False, dtype={\"temperature\": Float(), \"Timestamp\": Integer()})\n",
    "Th2.to_sql('Th2', con=engine, index=False, dtype={\"temperature\": Float(), \"Timestamp\": Integer()})"
   ]
  },
  {
   "cell_type": "code",
   "execution_count": 87,
   "metadata": {},
   "outputs": [
    {
     "data": {
      "text/plain": [
       "[('Tc1', 'x1', 50.5, 1543507200000000000),\n",
       " ('Tc1', 'x1', 51.0, 1543507245000000000)]"
      ]
     },
     "execution_count": 87,
     "metadata": {},
     "output_type": "execute_result"
    }
   ],
   "source": [
    "query = \"SELECT * FROM Tc1\"\n",
    "engine.execute(query).fetchall()"
   ]
  },
  {
   "cell_type": "code",
   "execution_count": 97,
   "metadata": {},
   "outputs": [],
   "source": [
    "query = \"SELECT Tc1.Timestamp, Tc1.measurement, Tc1.position, Tc1.temperature, Tc2.measurement, Tc2.position, Tc2.temperature FROM Tc1 INNER JOIN Tc2 ON Tc1.Timestamp=Tc2.Timestamp;\""
   ]
  },
  {
   "cell_type": "code",
   "execution_count": 98,
   "metadata": {},
   "outputs": [
    {
     "data": {
      "text/plain": [
       "[(1543507200000000000, 'Tc1', 'x1', 50.5, 'Tc2', 'x2', 60.3),\n",
       " (1543507245000000000, 'Tc1', 'x1', 51.0, 'Tc2', 'x2', 59.3)]"
      ]
     },
     "execution_count": 98,
     "metadata": {},
     "output_type": "execute_result"
    }
   ],
   "source": [
    "engine.execute(query).fetchall()"
   ]
  },
  {
   "cell_type": "code",
   "execution_count": null,
   "metadata": {},
   "outputs": [],
   "source": []
  }
 ],
 "metadata": {
  "kernelspec": {
   "display_name": "Python 3",
   "language": "python",
   "name": "python3"
  },
  "language_info": {
   "codemirror_mode": {
    "name": "ipython",
    "version": 3
   },
   "file_extension": ".py",
   "mimetype": "text/x-python",
   "name": "python",
   "nbconvert_exporter": "python",
   "pygments_lexer": "ipython3",
   "version": "3.6.5"
  }
 },
 "nbformat": 4,
 "nbformat_minor": 2
}
